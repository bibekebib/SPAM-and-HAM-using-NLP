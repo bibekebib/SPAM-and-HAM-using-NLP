{
  "cells": [
    {
      "cell_type": "markdown",
      "source": "# Read the text\n",
      "metadata": {
        "tags": [],
        "cell_id": "00000-c377c8d0-3518-4a7b-8eb5-573ed39edf63",
        "deepnote_cell_type": "markdown"
      }
    },
    {
      "cell_type": "code",
      "source": "import pandas as pd\ndata = pd.read_csv('SMSSpamCollection.tsv', sep='\\t')\ndata.columns = ['label', 'body_text']\ndata.head()",
      "metadata": {
        "tags": [],
        "cell_id": "00000-0c04e86a-8320-452c-b9de-41654695d201",
        "deepnote_to_be_reexecuted": false,
        "source_hash": "b33c73d9",
        "execution_millis": 22,
        "execution_start": 1617439956995,
        "deepnote_cell_type": "code"
      },
      "outputs": [
        {
          "output_type": "execute_result",
          "execution_count": 11,
          "data": {
            "application/vnd.deepnote.dataframe.v2+json": {
              "row_count": 5,
              "column_count": 2,
              "columns": [
                {
                  "name": "label",
                  "dtype": "object",
                  "stats": {
                    "unique_count": 2,
                    "nan_count": 0,
                    "categories": [
                      {
                        "name": "ham",
                        "count": 4
                      },
                      {
                        "name": "spam",
                        "count": 1
                      }
                    ]
                  }
                },
                {
                  "name": "body_text",
                  "dtype": "object",
                  "stats": {
                    "unique_count": 5,
                    "nan_count": 0,
                    "categories": [
                      {
                        "name": "Free entry in 2 a wkly comp to win FA Cup final tkts 21st May 2005. Text FA to 87121 to receive entry question(std txt rate)T&C's apply 08452810075over18's",
                        "count": 1
                      },
                      {
                        "name": "Nah I don't think he goes to usf, he lives around here though",
                        "count": 1
                      },
                      {
                        "name": "3 others",
                        "count": 3
                      }
                    ]
                  }
                },
                {
                  "name": "_deepnote_index_column",
                  "dtype": "int64"
                }
              ],
              "rows_top": [
                {
                  "label": "spam",
                  "body_text": "Free entry in 2 a wkly comp to win FA Cup final tkts 21st May 2005. Text FA to 87121 to receive entry question(std txt rate)T&C's apply 08452810075over18's",
                  "_deepnote_index_column": 0
                },
                {
                  "label": "ham",
                  "body_text": "Nah I don't think he goes to usf, he lives around here though",
                  "_deepnote_index_column": 1
                },
                {
                  "label": "ham",
                  "body_text": "Even my brother is not like to speak with me. They treat me like aids patent.",
                  "_deepnote_index_column": 2
                },
                {
                  "label": "ham",
                  "body_text": "I HAVE A DATE ON SUNDAY WITH WILL!!",
                  "_deepnote_index_column": 3
                },
                {
                  "label": "ham",
                  "body_text": "As per your request 'Melle Melle (Oru Minnaminunginte Nurungu Vettam)' has been set as your callertune for all Callers. Press *9 to copy your friends Callertune",
                  "_deepnote_index_column": 4
                }
              ],
              "rows_bottom": null
            },
            "text/plain": "  label                                          body_text\n0  spam  Free entry in 2 a wkly comp to win FA Cup fina...\n1   ham  Nah I don't think he goes to usf, he lives aro...\n2   ham  Even my brother is not like to speak with me. ...\n3   ham                I HAVE A DATE ON SUNDAY WITH WILL!!\n4   ham  As per your request 'Melle Melle (Oru Minnamin...",
            "text/html": "<div>\n<style scoped>\n    .dataframe tbody tr th:only-of-type {\n        vertical-align: middle;\n    }\n\n    .dataframe tbody tr th {\n        vertical-align: top;\n    }\n\n    .dataframe thead th {\n        text-align: right;\n    }\n</style>\n<table border=\"1\" class=\"dataframe\">\n  <thead>\n    <tr style=\"text-align: right;\">\n      <th></th>\n      <th>label</th>\n      <th>body_text</th>\n    </tr>\n  </thead>\n  <tbody>\n    <tr>\n      <th>0</th>\n      <td>spam</td>\n      <td>Free entry in 2 a wkly comp to win FA Cup fina...</td>\n    </tr>\n    <tr>\n      <th>1</th>\n      <td>ham</td>\n      <td>Nah I don't think he goes to usf, he lives aro...</td>\n    </tr>\n    <tr>\n      <th>2</th>\n      <td>ham</td>\n      <td>Even my brother is not like to speak with me. ...</td>\n    </tr>\n    <tr>\n      <th>3</th>\n      <td>ham</td>\n      <td>I HAVE A DATE ON SUNDAY WITH WILL!!</td>\n    </tr>\n    <tr>\n      <th>4</th>\n      <td>ham</td>\n      <td>As per your request 'Melle Melle (Oru Minnamin...</td>\n    </tr>\n  </tbody>\n</table>\n</div>"
          },
          "metadata": {}
        }
      ],
      "execution_count": 11
    },
    {
      "cell_type": "markdown",
      "source": "# Create Feature for text message length\n",
      "metadata": {
        "tags": [],
        "cell_id": "00002-dfae6c47-c3cf-4ca1-b459-9afba40b0ba6",
        "deepnote_cell_type": "markdown"
      },
      "outputs": [],
      "execution_count": null
    },
    {
      "outputs": [
        {
          "output_type": "execute_result",
          "execution_count": 12,
          "data": {
            "application/vnd.deepnote.dataframe.v2+json": {
              "row_count": 5,
              "column_count": 3,
              "columns": [
                {
                  "name": "label",
                  "dtype": "object",
                  "stats": {
                    "unique_count": 2,
                    "nan_count": 0,
                    "categories": [
                      {
                        "name": "ham",
                        "count": 4
                      },
                      {
                        "name": "spam",
                        "count": 1
                      }
                    ]
                  }
                },
                {
                  "name": "body_text",
                  "dtype": "object",
                  "stats": {
                    "unique_count": 5,
                    "nan_count": 0,
                    "categories": [
                      {
                        "name": "Free entry in 2 a wkly comp to win FA Cup final tkts 21st May 2005. Text FA to 87121 to receive entry question(std txt rate)T&C's apply 08452810075over18's",
                        "count": 1
                      },
                      {
                        "name": "Nah I don't think he goes to usf, he lives around here though",
                        "count": 1
                      },
                      {
                        "name": "3 others",
                        "count": 3
                      }
                    ]
                  }
                },
                {
                  "name": "body_len",
                  "dtype": "int64",
                  "stats": {
                    "unique_count": 5,
                    "nan_count": 0,
                    "min": 28,
                    "max": 135,
                    "histogram": [
                      {
                        "bin_start": 28,
                        "bin_end": 38.7,
                        "count": 1
                      },
                      {
                        "bin_start": 38.7,
                        "bin_end": 49.4,
                        "count": 1
                      },
                      {
                        "bin_start": 49.4,
                        "bin_end": 60.099999999999994,
                        "count": 0
                      },
                      {
                        "bin_start": 60.099999999999994,
                        "bin_end": 70.8,
                        "count": 1
                      },
                      {
                        "bin_start": 70.8,
                        "bin_end": 81.5,
                        "count": 0
                      },
                      {
                        "bin_start": 81.5,
                        "bin_end": 92.19999999999999,
                        "count": 0
                      },
                      {
                        "bin_start": 92.19999999999999,
                        "bin_end": 102.89999999999999,
                        "count": 0
                      },
                      {
                        "bin_start": 102.89999999999999,
                        "bin_end": 113.6,
                        "count": 0
                      },
                      {
                        "bin_start": 113.6,
                        "bin_end": 124.3,
                        "count": 0
                      },
                      {
                        "bin_start": 124.3,
                        "bin_end": 135,
                        "count": 2
                      }
                    ]
                  }
                },
                {
                  "name": "_deepnote_index_column",
                  "dtype": "int64"
                }
              ],
              "rows_top": [
                {
                  "label": "spam",
                  "body_text": "Free entry in 2 a wkly comp to win FA Cup final tkts 21st May 2005. Text FA to 87121 to receive entry question(std txt rate)T&C's apply 08452810075over18's",
                  "body_len": 128,
                  "_deepnote_index_column": 0
                },
                {
                  "label": "ham",
                  "body_text": "Nah I don't think he goes to usf, he lives around here though",
                  "body_len": 49,
                  "_deepnote_index_column": 1
                },
                {
                  "label": "ham",
                  "body_text": "Even my brother is not like to speak with me. They treat me like aids patent.",
                  "body_len": 62,
                  "_deepnote_index_column": 2
                },
                {
                  "label": "ham",
                  "body_text": "I HAVE A DATE ON SUNDAY WITH WILL!!",
                  "body_len": 28,
                  "_deepnote_index_column": 3
                },
                {
                  "label": "ham",
                  "body_text": "As per your request 'Melle Melle (Oru Minnaminunginte Nurungu Vettam)' has been set as your callertune for all Callers. Press *9 to copy your friends Callertune",
                  "body_len": 135,
                  "_deepnote_index_column": 4
                }
              ],
              "rows_bottom": null
            },
            "text/plain": "  label                                          body_text  body_len\n0  spam  Free entry in 2 a wkly comp to win FA Cup fina...       128\n1   ham  Nah I don't think he goes to usf, he lives aro...        49\n2   ham  Even my brother is not like to speak with me. ...        62\n3   ham                I HAVE A DATE ON SUNDAY WITH WILL!!        28\n4   ham  As per your request 'Melle Melle (Oru Minnamin...       135",
            "text/html": "<div>\n<style scoped>\n    .dataframe tbody tr th:only-of-type {\n        vertical-align: middle;\n    }\n\n    .dataframe tbody tr th {\n        vertical-align: top;\n    }\n\n    .dataframe thead th {\n        text-align: right;\n    }\n</style>\n<table border=\"1\" class=\"dataframe\">\n  <thead>\n    <tr style=\"text-align: right;\">\n      <th></th>\n      <th>label</th>\n      <th>body_text</th>\n      <th>body_len</th>\n    </tr>\n  </thead>\n  <tbody>\n    <tr>\n      <th>0</th>\n      <td>spam</td>\n      <td>Free entry in 2 a wkly comp to win FA Cup fina...</td>\n      <td>128</td>\n    </tr>\n    <tr>\n      <th>1</th>\n      <td>ham</td>\n      <td>Nah I don't think he goes to usf, he lives aro...</td>\n      <td>49</td>\n    </tr>\n    <tr>\n      <th>2</th>\n      <td>ham</td>\n      <td>Even my brother is not like to speak with me. ...</td>\n      <td>62</td>\n    </tr>\n    <tr>\n      <th>3</th>\n      <td>ham</td>\n      <td>I HAVE A DATE ON SUNDAY WITH WILL!!</td>\n      <td>28</td>\n    </tr>\n    <tr>\n      <th>4</th>\n      <td>ham</td>\n      <td>As per your request 'Melle Melle (Oru Minnamin...</td>\n      <td>135</td>\n    </tr>\n  </tbody>\n</table>\n</div>"
          },
          "metadata": {}
        }
      ],
      "execution_count": 12,
      "cell_type": "code",
      "source": "data['body_len'] =data['body_text'].apply(lambda x: len(x) - x.count(' '))\ndata.head()",
      "metadata": {
        "tags": [],
        "cell_id": "00003-7e8af9ab-e271-4298-9511-f8211cd3b71c",
        "deepnote_to_be_reexecuted": false,
        "source_hash": "66469c6c",
        "execution_millis": 9,
        "execution_start": 1617439959079,
        "deepnote_cell_type": "code"
      }
    },
    {
      "cell_type": "markdown",
      "source": "# Create feature for % of text that is punctuation",
      "metadata": {
        "tags": [],
        "cell_id": "00004-d6d4aeb7-c9f3-4b74-a980-2e12802cade3",
        "deepnote_cell_type": "markdown"
      },
      "outputs": [],
      "execution_count": null
    },
    {
      "outputs": [
        {
          "output_type": "execute_result",
          "execution_count": 24,
          "data": {
            "application/vnd.deepnote.dataframe.v2+json": {
              "row_count": 5,
              "column_count": 4,
              "columns": [
                {
                  "name": "label",
                  "dtype": "object",
                  "stats": {
                    "unique_count": 2,
                    "nan_count": 0,
                    "categories": [
                      {
                        "name": "ham",
                        "count": 4
                      },
                      {
                        "name": "spam",
                        "count": 1
                      }
                    ]
                  }
                },
                {
                  "name": "body_text",
                  "dtype": "object",
                  "stats": {
                    "unique_count": 5,
                    "nan_count": 0,
                    "categories": [
                      {
                        "name": "Free entry in 2 a wkly comp to win FA Cup final tkts 21st May 2005. Text FA to 87121 to receive entry question(std txt rate)T&C's apply 08452810075over18's",
                        "count": 1
                      },
                      {
                        "name": "Nah I don't think he goes to usf, he lives around here though",
                        "count": 1
                      },
                      {
                        "name": "3 others",
                        "count": 3
                      }
                    ]
                  }
                },
                {
                  "name": "body_len",
                  "dtype": "int64",
                  "stats": {
                    "unique_count": 5,
                    "nan_count": 0,
                    "min": 28,
                    "max": 135,
                    "histogram": [
                      {
                        "bin_start": 28,
                        "bin_end": 38.7,
                        "count": 1
                      },
                      {
                        "bin_start": 38.7,
                        "bin_end": 49.4,
                        "count": 1
                      },
                      {
                        "bin_start": 49.4,
                        "bin_end": 60.099999999999994,
                        "count": 0
                      },
                      {
                        "bin_start": 60.099999999999994,
                        "bin_end": 70.8,
                        "count": 1
                      },
                      {
                        "bin_start": 70.8,
                        "bin_end": 81.5,
                        "count": 0
                      },
                      {
                        "bin_start": 81.5,
                        "bin_end": 92.19999999999999,
                        "count": 0
                      },
                      {
                        "bin_start": 92.19999999999999,
                        "bin_end": 102.89999999999999,
                        "count": 0
                      },
                      {
                        "bin_start": 102.89999999999999,
                        "bin_end": 113.6,
                        "count": 0
                      },
                      {
                        "bin_start": 113.6,
                        "bin_end": 124.3,
                        "count": 0
                      },
                      {
                        "bin_start": 124.3,
                        "bin_end": 135,
                        "count": 2
                      }
                    ]
                  }
                },
                {
                  "name": "body_per_punct",
                  "dtype": "float64",
                  "stats": {
                    "unique_count": 5,
                    "nan_count": 0,
                    "min": 3.226,
                    "max": 7.143,
                    "histogram": [
                      {
                        "bin_start": 3.226,
                        "bin_end": 3.6177,
                        "count": 1
                      },
                      {
                        "bin_start": 3.6177,
                        "bin_end": 4.0094,
                        "count": 0
                      },
                      {
                        "bin_start": 4.0094,
                        "bin_end": 4.4011,
                        "count": 1
                      },
                      {
                        "bin_start": 4.4011,
                        "bin_end": 4.7928,
                        "count": 2
                      },
                      {
                        "bin_start": 4.7928,
                        "bin_end": 5.1845,
                        "count": 0
                      },
                      {
                        "bin_start": 5.1845,
                        "bin_end": 5.5762,
                        "count": 0
                      },
                      {
                        "bin_start": 5.5762,
                        "bin_end": 5.9679,
                        "count": 0
                      },
                      {
                        "bin_start": 5.9679,
                        "bin_end": 6.3596,
                        "count": 0
                      },
                      {
                        "bin_start": 6.3596,
                        "bin_end": 6.7513000000000005,
                        "count": 0
                      },
                      {
                        "bin_start": 6.7513000000000005,
                        "bin_end": 7.143,
                        "count": 1
                      }
                    ]
                  }
                },
                {
                  "name": "_deepnote_index_column",
                  "dtype": "int64"
                }
              ],
              "rows_top": [
                {
                  "label": "spam",
                  "body_text": "Free entry in 2 a wkly comp to win FA Cup final tkts 21st May 2005. Text FA to 87121 to receive entry question(std txt rate)T&C's apply 08452810075over18's",
                  "body_len": 128,
                  "body_per_punct": 4.688,
                  "_deepnote_index_column": 0
                },
                {
                  "label": "ham",
                  "body_text": "Nah I don't think he goes to usf, he lives around here though",
                  "body_len": 49,
                  "body_per_punct": 4.082,
                  "_deepnote_index_column": 1
                },
                {
                  "label": "ham",
                  "body_text": "Even my brother is not like to speak with me. They treat me like aids patent.",
                  "body_len": 62,
                  "body_per_punct": 3.226,
                  "_deepnote_index_column": 2
                },
                {
                  "label": "ham",
                  "body_text": "I HAVE A DATE ON SUNDAY WITH WILL!!",
                  "body_len": 28,
                  "body_per_punct": 7.143,
                  "_deepnote_index_column": 3
                },
                {
                  "label": "ham",
                  "body_text": "As per your request 'Melle Melle (Oru Minnaminunginte Nurungu Vettam)' has been set as your callertune for all Callers. Press *9 to copy your friends Callertune",
                  "body_len": 135,
                  "body_per_punct": 4.444,
                  "_deepnote_index_column": 4
                }
              ],
              "rows_bottom": null
            },
            "text/plain": "  label                                          body_text  body_len  \\\n0  spam  Free entry in 2 a wkly comp to win FA Cup fina...       128   \n1   ham  Nah I don't think he goes to usf, he lives aro...        49   \n2   ham  Even my brother is not like to speak with me. ...        62   \n3   ham                I HAVE A DATE ON SUNDAY WITH WILL!!        28   \n4   ham  As per your request 'Melle Melle (Oru Minnamin...       135   \n\n   body_per_punct  \n0           4.688  \n1           4.082  \n2           3.226  \n3           7.143  \n4           4.444  ",
            "text/html": "<div>\n<style scoped>\n    .dataframe tbody tr th:only-of-type {\n        vertical-align: middle;\n    }\n\n    .dataframe tbody tr th {\n        vertical-align: top;\n    }\n\n    .dataframe thead th {\n        text-align: right;\n    }\n</style>\n<table border=\"1\" class=\"dataframe\">\n  <thead>\n    <tr style=\"text-align: right;\">\n      <th></th>\n      <th>label</th>\n      <th>body_text</th>\n      <th>body_len</th>\n      <th>body_per_punct</th>\n    </tr>\n  </thead>\n  <tbody>\n    <tr>\n      <th>0</th>\n      <td>spam</td>\n      <td>Free entry in 2 a wkly comp to win FA Cup fina...</td>\n      <td>128</td>\n      <td>4.688</td>\n    </tr>\n    <tr>\n      <th>1</th>\n      <td>ham</td>\n      <td>Nah I don't think he goes to usf, he lives aro...</td>\n      <td>49</td>\n      <td>4.082</td>\n    </tr>\n    <tr>\n      <th>2</th>\n      <td>ham</td>\n      <td>Even my brother is not like to speak with me. ...</td>\n      <td>62</td>\n      <td>3.226</td>\n    </tr>\n    <tr>\n      <th>3</th>\n      <td>ham</td>\n      <td>I HAVE A DATE ON SUNDAY WITH WILL!!</td>\n      <td>28</td>\n      <td>7.143</td>\n    </tr>\n    <tr>\n      <th>4</th>\n      <td>ham</td>\n      <td>As per your request 'Melle Melle (Oru Minnamin...</td>\n      <td>135</td>\n      <td>4.444</td>\n    </tr>\n  </tbody>\n</table>\n</div>"
          },
          "metadata": {}
        }
      ],
      "execution_count": 24,
      "cell_type": "code",
      "source": "import string\ndef count_punct(text):\n    count = sum([1 for char in text if char in string.punctuation])\n    return round((count / (len(text) - text.count(' '))) * 100, 3)\n\ndata['body_per_punct'] = data['body_text'].apply(count_punct)\ndata.head()",
      "metadata": {
        "tags": [],
        "cell_id": "00005-0655c113-4f58-450a-9c61-940bdcc3639c",
        "deepnote_to_be_reexecuted": false,
        "source_hash": "429f2198",
        "execution_millis": 169,
        "execution_start": 1617440335411,
        "deepnote_cell_type": "code"
      }
    },
    {
      "cell_type": "markdown",
      "source": "# EValuate create features",
      "metadata": {
        "tags": [],
        "cell_id": "00006-c72c1359-2aaa-46a9-8a5f-f7502c9833e5",
        "deepnote_cell_type": "markdown"
      },
      "outputs": [],
      "execution_count": null
    },
    {
      "outputs": [],
      "execution_count": 26,
      "cell_type": "code",
      "source": "import matplotlib.pyplot as plt\nimport numpy as np\n%matplotlib inline",
      "metadata": {
        "tags": [],
        "cell_id": "00007-3e3a1bf0-69c9-4da1-a35e-e7a0e98df489",
        "deepnote_to_be_reexecuted": false,
        "source_hash": "5c36be79",
        "execution_millis": 3,
        "execution_start": 1617440447464,
        "deepnote_cell_type": "code"
      }
    },
    {
      "cell_type": "code",
      "source": "bins = np.linspace(0, 200, 40)\n\nplt.hist(data[data['label'] == 'spam']['body_len'], bins, alpha=0.5, density=True, label='Spam')\nplt.hist(data[data['label'] == 'ham']['body_len'], bins, alpha=0.5, density=True, label='ham')\nplt.legend(loc = 4)\nplt.show()",
      "metadata": {
        "tags": [],
        "cell_id": "00008-ed63b2c8-fff7-4285-bc35-a81a6f917817",
        "deepnote_to_be_reexecuted": false,
        "source_hash": "464743da",
        "execution_millis": 269,
        "execution_start": 1617440968027,
        "deepnote_cell_type": "code"
      },
      "outputs": [
        {
          "data": {
            "text/plain": "<Figure size 432x288 with 1 Axes>",
            "image/png": "[encoded data removed]"
          },
          "metadata": {
            "needs_background": "light"
          },
          "output_type": "display_data"
        }
      ],
      "execution_count": 32
    },
    {
      "cell_type": "code",
      "source": "bins = np.linspace(0, 50, 50)\n\nplt.hist(data[data['label'] == 'spam']['body_per_punct'], bins, alpha=0.5, density=True, label='Spam')\nplt.hist(data[data['label'] == 'ham']['body_per_punct'], bins, alpha=0.5, density=True, label='ham')\nplt.legend(loc = 4)\nplt.show()",
      "metadata": {
        "tags": [],
        "cell_id": "00009-e2c843fe-803f-4a53-a5e3-b54394df8811",
        "deepnote_to_be_reexecuted": false,
        "source_hash": "a288c7ea",
        "execution_millis": 308,
        "execution_start": 1617441106820,
        "deepnote_cell_type": "code"
      },
      "outputs": [
        {
          "data": {
            "text/plain": "<Figure size 432x288 with 1 Axes>",
            "image/png": "[encoded data removed]"
          },
          "metadata": {
            "needs_background": "light"
          },
          "output_type": "display_data"
        }
      ],
      "execution_count": 37
    },
    {
      "cell_type": "markdown",
      "source": "# Transfomation",
      "metadata": {
        "tags": [],
        "cell_id": "00010-83ad643b-f6f9-41c4-a4c3-3e5befaaa79a",
        "deepnote_cell_type": "markdown"
      },
      "outputs": [],
      "execution_count": null
    },
    {
      "outputs": [
        {
          "data": {
            "text/plain": "<Figure size 432x288 with 1 Axes>",
            "image/png": "[encoded data removed]"
          },
          "metadata": {
            "needs_background": "light"
          },
          "output_type": "display_data"
        },
        {
          "data": {
            "text/plain": "<Figure size 432x288 with 1 Axes>",
            "image/png": "[encoded data removed]"
          },
          "metadata": {
            "needs_background": "light"
          },
          "output_type": "display_data"
        },
        {
          "data": {
            "text/plain": "<Figure size 432x288 with 1 Axes>",
            "image/png": "[encoded data removed]"
          },
          "metadata": {
            "needs_background": "light"
          },
          "output_type": "display_data"
        },
        {
          "data": {
            "text/plain": "<Figure size 432x288 with 1 Axes>",
            "image/png": "[encoded data removed]"
          },
          "metadata": {
            "needs_background": "light"
          },
          "output_type": "display_data"
        },
        {
          "data": {
            "text/plain": "<Figure size 432x288 with 1 Axes>",
            "image/png": "[encoded data removed]"
          },
          "metadata": {
            "needs_background": "light"
          },
          "output_type": "display_data"
        }
      ],
      "execution_count": 40,
      "cell_type": "code",
      "source": "for i in [1,2,3,4,5]:\n    plt.hist((data['body_per_punct'])**(1/i), bins=40)\n    plt.title('Transformation: i/{}'.format(str(i)))\n    plt.show()",
      "metadata": {
        "tags": [],
        "cell_id": "00011-34aa3bae-5677-48c4-bbc3-5c5528a99464",
        "deepnote_to_be_reexecuted": false,
        "source_hash": "21526370",
        "execution_millis": 995,
        "execution_start": 1617441728176,
        "deepnote_cell_type": "code"
      }
    },
    {
      "cell_type": "code",
      "source": "",
      "metadata": {
        "tags": [],
        "cell_id": "00012-cb391b56-23de-4546-9e9d-421c1494217b",
        "deepnote_cell_type": "code"
      },
      "outputs": [],
      "execution_count": null
    },
    {
      "cell_type": "markdown",
      "source": "<a style='text-decoration:none;line-height:16px;display:flex;color:#5B5B62;padding:10px;justify-content:end;' href='https://deepnote.com?utm_source=created-in-deepnote-cell&projectId=c110350c-d27f-445e-a2fe-f71c16e85564' target=\"_blank\">\n<img alt='Created in deepnote.com' style='display:inline;max-height:16px;margin:0px;margin-right:7.5px;' src='data:image/svg+xml;base64,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' > </img>\nCreated in <span style='font-weight:600;margin-left:4px;'>Deepnote</span></a>",
      "metadata": {
        "tags": [],
        "created_in_deepnote_cell": true,
        "deepnote_cell_type": "markdown"
      }
    }
  ],
  "nbformat": 4,
  "nbformat_minor": 2,
  "metadata": {
    "orig_nbformat": 2,
    "deepnote_notebook_id": "15729d9b-28ee-4870-b657-8cd69d53ca2a",
    "deepnote": {},
    "deepnote_execution_queue": []
  }
}
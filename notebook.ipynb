{
  "cells": [
    {
      "cell_type": "code",
      "metadata": {
        "tags": [],
        "cell_id": "00000-bf56f18e-a749-4fd7-8b9a-2ef96d7b33f9",
        "deepnote_to_be_reexecuted": false,
        "source_hash": "c1a868b7",
        "execution_millis": 1,
        "execution_start": 1617978501881,
        "deepnote_cell_type": "code"
      },
      "source": "# Building Machine Learning Classifiers: Building a basic Random Forest Model",
      "execution_count": null,
      "outputs": []
    },
    {
      "cell_type": "code",
      "metadata": {
        "tags": [],
        "cell_id": "00001-d21ea7cb-8013-4a42-a9c4-d5414da421dd",
        "deepnote_to_be_reexecuted": false,
        "source_hash": "afd92dc4",
        "execution_millis": 1,
        "execution_start": 1617978501898,
        "deepnote_cell_type": "code"
      },
      "source": "# Read and clean text",
      "execution_count": null,
      "outputs": []
    },
    {
      "cell_type": "code",
      "metadata": {
        "tags": [],
        "cell_id": "00001-7235a68f-f91c-4c38-8a38-9e613299f38a",
        "deepnote_to_be_reexecuted": false,
        "source_hash": "a3ce0525",
        "execution_millis": 2301,
        "execution_start": 1617978501902,
        "deepnote_cell_type": "code"
      },
      "source": "import pandas as pd\nimport nltk\nimport re\nfrom sklearn.feature_extraction.text import TfidfVectorizer\nimport string\n\nnltk.download('stopwords')\nstopwords = nltk.corpus.stopwords.words('english')\nps = nltk.PorterStemmer()\n\n",
      "execution_count": null,
      "outputs": [
        {
          "name": "stderr",
          "text": "[nltk_data] Downloading package stopwords to /root/nltk_data...\n[nltk_data]   Unzipping corpora/stopwords.zip.\n",
          "output_type": "stream"
        }
      ]
    },
    {
      "cell_type": "code",
      "metadata": {
        "tags": [],
        "cell_id": "00003-9ba0f383-d697-47a8-a4f7-865377fddf55",
        "deepnote_to_be_reexecuted": false,
        "source_hash": "d37f63aa",
        "execution_millis": 32,
        "execution_start": 1617978504213,
        "deepnote_cell_type": "code"
      },
      "source": "data = pd.read_csv('SMSSpamCollection.tsv', sep='\\t', header=None, names = ['label', 'body_text'])\n# data.head()",
      "execution_count": null,
      "outputs": []
    },
    {
      "cell_type": "markdown",
      "source": "",
      "metadata": {
        "tags": [],
        "cell_id": "00001-21be5915-6688-4fca-8b05-ba53c15a2c32",
        "deepnote_cell_type": "markdown"
      }
    },
    {
      "cell_type": "code",
      "metadata": {
        "tags": [],
        "cell_id": "00005-ceddf357-799d-49e0-badf-02176789a8ed",
        "deepnote_to_be_reexecuted": false,
        "source_hash": "33319077",
        "execution_millis": 0,
        "execution_start": 1617978504270,
        "deepnote_cell_type": "code"
      },
      "source": "def count_punct(text):\n    count = sum([1 for char in text if char in string.punctuation])\n    return round((count / (len(text) - text.count(' '))) * 100, 3)",
      "execution_count": null,
      "outputs": []
    },
    {
      "cell_type": "code",
      "metadata": {
        "tags": [],
        "cell_id": "00006-f02c5b35-e073-46f9-a10e-eaca39176da8",
        "deepnote_to_be_reexecuted": false,
        "source_hash": "ef4d33c3",
        "execution_millis": 65,
        "execution_start": 1617978504270,
        "deepnote_cell_type": "code"
      },
      "source": "data['body_len'] = data['body_text'].apply(lambda x: len(x) - x.count(' '))\ndata['punct'] = data['body_text'].apply(count_punct)",
      "execution_count": null,
      "outputs": []
    },
    {
      "cell_type": "code",
      "metadata": {
        "tags": [],
        "cell_id": "00007-c222d3cf-5448-4d43-b3f7-b623dc138ee1",
        "deepnote_to_be_reexecuted": false,
        "source_hash": "41313cfa",
        "execution_millis": 77,
        "execution_start": 1617978504348,
        "deepnote_cell_type": "code"
      },
      "source": "data.head()",
      "execution_count": null,
      "outputs": [
        {
          "output_type": "execute_result",
          "execution_count": 7,
          "data": {
            "application/vnd.deepnote.dataframe.v2+json": {
              "row_count": 5,
              "column_count": 4,
              "columns": [
                {
                  "name": "label",
                  "dtype": "object",
                  "stats": {
                    "unique_count": 2,
                    "nan_count": 0,
                    "categories": [
                      {
                        "name": "ham",
                        "count": 4
                      },
                      {
                        "name": "spam",
                        "count": 1
                      }
                    ]
                  }
                },
                {
                  "name": "body_text",
                  "dtype": "object",
                  "stats": {
                    "unique_count": 5,
                    "nan_count": 0,
                    "categories": [
                      {
                        "name": "I've been searching for the right words to thank you for this breather. I promise i wont take your help for granted and will fulfil my promise. You have been wonderful and a blessing at all times.",
                        "count": 1
                      },
                      {
                        "name": "Free entry in 2 a wkly comp to win FA Cup final tkts 21st May 2005. Text FA to 87121 to receive entry question(std txt rate)T&C's apply 08452810075over18's",
                        "count": 1
                      },
                      {
                        "name": "3 others",
                        "count": 3
                      }
                    ]
                  }
                },
                {
                  "name": "body_len",
                  "dtype": "int64",
                  "stats": {
                    "unique_count": 5,
                    "nan_count": 0,
                    "min": 28,
                    "max": 160,
                    "histogram": [
                      {
                        "bin_start": 28,
                        "bin_end": 41.2,
                        "count": 1
                      },
                      {
                        "bin_start": 41.2,
                        "bin_end": 54.4,
                        "count": 1
                      },
                      {
                        "bin_start": 54.4,
                        "bin_end": 67.6,
                        "count": 1
                      },
                      {
                        "bin_start": 67.6,
                        "bin_end": 80.8,
                        "count": 0
                      },
                      {
                        "bin_start": 80.8,
                        "bin_end": 94,
                        "count": 0
                      },
                      {
                        "bin_start": 94,
                        "bin_end": 107.19999999999999,
                        "count": 0
                      },
                      {
                        "bin_start": 107.19999999999999,
                        "bin_end": 120.39999999999999,
                        "count": 0
                      },
                      {
                        "bin_start": 120.39999999999999,
                        "bin_end": 133.6,
                        "count": 1
                      },
                      {
                        "bin_start": 133.6,
                        "bin_end": 146.8,
                        "count": 0
                      },
                      {
                        "bin_start": 146.8,
                        "bin_end": 160,
                        "count": 1
                      }
                    ]
                  }
                },
                {
                  "name": "punct",
                  "dtype": "float64",
                  "stats": {
                    "unique_count": 5,
                    "nan_count": 0,
                    "min": 2.5,
                    "max": 7.143,
                    "histogram": [
                      {
                        "bin_start": 2.5,
                        "bin_end": 2.9643,
                        "count": 1
                      },
                      {
                        "bin_start": 2.9643,
                        "bin_end": 3.4286,
                        "count": 1
                      },
                      {
                        "bin_start": 3.4286,
                        "bin_end": 3.8929,
                        "count": 0
                      },
                      {
                        "bin_start": 3.8929,
                        "bin_end": 4.3572,
                        "count": 1
                      },
                      {
                        "bin_start": 4.3572,
                        "bin_end": 4.8215,
                        "count": 1
                      },
                      {
                        "bin_start": 4.8215,
                        "bin_end": 5.2858,
                        "count": 0
                      },
                      {
                        "bin_start": 5.2858,
                        "bin_end": 5.7501,
                        "count": 0
                      },
                      {
                        "bin_start": 5.7501,
                        "bin_end": 6.2143999999999995,
                        "count": 0
                      },
                      {
                        "bin_start": 6.2143999999999995,
                        "bin_end": 6.6787,
                        "count": 0
                      },
                      {
                        "bin_start": 6.6787,
                        "bin_end": 7.143,
                        "count": 1
                      }
                    ]
                  }
                },
                {
                  "name": "_deepnote_index_column",
                  "dtype": "int64"
                }
              ],
              "rows_top": [
                {
                  "label": "ham",
                  "body_text": "I've been searching for the right words to thank you for this breather. I promise i wont take your help for granted and will fulfil my promise. You have been wonderful and a blessing at all times.",
                  "body_len": 160,
                  "punct": 2.5,
                  "_deepnote_index_column": 0
                },
                {
                  "label": "spam",
                  "body_text": "Free entry in 2 a wkly comp to win FA Cup final tkts 21st May 2005. Text FA to 87121 to receive entry question(std txt rate)T&C's apply 08452810075over18's",
                  "body_len": 128,
                  "punct": 4.688,
                  "_deepnote_index_column": 1
                },
                {
                  "label": "ham",
                  "body_text": "Nah I don't think he goes to usf, he lives around here though",
                  "body_len": 49,
                  "punct": 4.082,
                  "_deepnote_index_column": 2
                },
                {
                  "label": "ham",
                  "body_text": "Even my brother is not like to speak with me. They treat me like aids patent.",
                  "body_len": 62,
                  "punct": 3.226,
                  "_deepnote_index_column": 3
                },
                {
                  "label": "ham",
                  "body_text": "I HAVE A DATE ON SUNDAY WITH WILL!!",
                  "body_len": 28,
                  "punct": 7.143,
                  "_deepnote_index_column": 4
                }
              ],
              "rows_bottom": null
            },
            "text/plain": "  label                                          body_text  body_len  punct\n0   ham  I've been searching for the right words to tha...       160  2.500\n1  spam  Free entry in 2 a wkly comp to win FA Cup fina...       128  4.688\n2   ham  Nah I don't think he goes to usf, he lives aro...        49  4.082\n3   ham  Even my brother is not like to speak with me. ...        62  3.226\n4   ham                I HAVE A DATE ON SUNDAY WITH WILL!!        28  7.143",
            "text/html": "<div>\n<style scoped>\n    .dataframe tbody tr th:only-of-type {\n        vertical-align: middle;\n    }\n\n    .dataframe tbody tr th {\n        vertical-align: top;\n    }\n\n    .dataframe thead th {\n        text-align: right;\n    }\n</style>\n<table border=\"1\" class=\"dataframe\">\n  <thead>\n    <tr style=\"text-align: right;\">\n      <th></th>\n      <th>label</th>\n      <th>body_text</th>\n      <th>body_len</th>\n      <th>punct</th>\n    </tr>\n  </thead>\n  <tbody>\n    <tr>\n      <th>0</th>\n      <td>ham</td>\n      <td>I've been searching for the right words to tha...</td>\n      <td>160</td>\n      <td>2.500</td>\n    </tr>\n    <tr>\n      <th>1</th>\n      <td>spam</td>\n      <td>Free entry in 2 a wkly comp to win FA Cup fina...</td>\n      <td>128</td>\n      <td>4.688</td>\n    </tr>\n    <tr>\n      <th>2</th>\n      <td>ham</td>\n      <td>Nah I don't think he goes to usf, he lives aro...</td>\n      <td>49</td>\n      <td>4.082</td>\n    </tr>\n    <tr>\n      <th>3</th>\n      <td>ham</td>\n      <td>Even my brother is not like to speak with me. ...</td>\n      <td>62</td>\n      <td>3.226</td>\n    </tr>\n    <tr>\n      <th>4</th>\n      <td>ham</td>\n      <td>I HAVE A DATE ON SUNDAY WITH WILL!!</td>\n      <td>28</td>\n      <td>7.143</td>\n    </tr>\n  </tbody>\n</table>\n</div>"
          },
          "metadata": {}
        }
      ]
    },
    {
      "cell_type": "code",
      "metadata": {
        "tags": [],
        "cell_id": "00008-337d2c66-c767-4dad-8197-dfe7929bc96d",
        "deepnote_to_be_reexecuted": false,
        "source_hash": "668c13c2",
        "execution_millis": 0,
        "execution_start": 1617978504407,
        "deepnote_cell_type": "code"
      },
      "source": "def clean_text(text):\n    text = ''.join([word.lower() for word in text if word not in string.punctuation])\n    tokens = re.split('\\W+',text)\n    text = [ps.stem(word) for word in tokens if word not in stopwords]\n    return text\n\ntfidd_vect = TfidfVectorizer(analyzer=clean_text)\nX_tfidf = tfidd_vect.fit_transform(data['body_text'])\nx_features = pd.concat([data['body_len'], data['punct'], pd.DataFrame(X_tfidf.toarray())], axis=1)",
      "execution_count": null,
      "outputs": []
    },
    {
      "cell_type": "code",
      "metadata": {
        "tags": [],
        "cell_id": "00009-80e049d7-ddad-4360-b996-66d5ffd04f3c",
        "deepnote_to_be_reexecuted": false,
        "source_hash": "c50e5244",
        "execution_millis": 0,
        "execution_start": 1617978504408,
        "deepnote_cell_type": "code"
      },
      "source": "x_features.head()",
      "execution_count": null,
      "outputs": []
    },
    {
      "cell_type": "code",
      "metadata": {
        "tags": [],
        "cell_id": "00010-fc71a4ca-20c4-4622-a66c-5cb71005c54e",
        "deepnote_to_be_reexecuted": false,
        "source_hash": "ed22245e",
        "execution_millis": 1,
        "execution_start": 1617978504408,
        "deepnote_cell_type": "code"
      },
      "source": "# Explore RandomForest Classifier Attribues and HyperParameters",
      "execution_count": null,
      "outputs": []
    },
    {
      "cell_type": "code",
      "metadata": {
        "tags": [],
        "cell_id": "00011-4132453d-8a43-4b09-a0f3-6c51a954bb26",
        "deepnote_to_be_reexecuted": false,
        "source_hash": "b10258b3",
        "execution_millis": 0,
        "execution_start": 1617978504416,
        "deepnote_cell_type": "code"
      },
      "source": "from sklearn.ensemble import RandomForestClassifier",
      "execution_count": null,
      "outputs": []
    },
    {
      "cell_type": "code",
      "metadata": {
        "tags": [],
        "cell_id": "00012-a70e2d45-5ba3-4be0-80d9-fa9f65f25604",
        "deepnote_to_be_reexecuted": false,
        "source_hash": "b31fd813",
        "execution_millis": 25,
        "execution_start": 1617978504417,
        "deepnote_cell_type": "code"
      },
      "source": "\n",
      "execution_count": null,
      "outputs": []
    },
    {
      "cell_type": "code",
      "metadata": {
        "tags": [],
        "cell_id": "00013-1bf974ad-fe82-4471-bd8e-62c2ac905cc1",
        "deepnote_to_be_reexecuted": false,
        "source_hash": "f8ff4dae",
        "execution_millis": 2,
        "execution_start": 1617978504465,
        "deepnote_cell_type": "code"
      },
      "source": "from sklearn.model_selection import KFold, cross_val_score",
      "execution_count": null,
      "outputs": []
    },
    {
      "cell_type": "code",
      "metadata": {
        "tags": [],
        "cell_id": "00014-1120267c-d308-4ca8-bd52-6a7ec42ebe44",
        "deepnote_to_be_reexecuted": false,
        "source_hash": "65197aa7",
        "execution_millis": 78988,
        "execution_start": 1617978504481,
        "deepnote_cell_type": "code"
      },
      "source": "rf = RandomForestClassifier(n_jobs=-1)\nk_fold =  KFold(n_splits=5)\ncrossvalscore = cross_val_score(rf, x_features, data['label'], scoring='accuracy', n_jobs=-1)\n",
      "execution_count": null,
      "outputs": []
    },
    {
      "cell_type": "code",
      "metadata": {
        "tags": [],
        "cell_id": "00015-480fe573-e0b5-4680-b433-3697a06434d0",
        "deepnote_to_be_reexecuted": false,
        "source_hash": "4e7ca23f",
        "execution_millis": 0,
        "execution_start": 1617978504482,
        "deepnote_cell_type": "code"
      },
      "source": "crossvalscore",
      "execution_count": null,
      "outputs": []
    },
    {
      "cell_type": "code",
      "metadata": {
        "tags": [],
        "cell_id": "00016-f0785ed1-b180-49c5-b953-62457333ed88",
        "deepnote_to_be_reexecuted": false,
        "source_hash": "3b8e2187",
        "execution_millis": 1,
        "execution_start": 1617978504482,
        "deepnote_cell_type": "code"
      },
      "source": "# Explore RandomForest Classifier through holdout set",
      "execution_count": null,
      "outputs": []
    },
    {
      "cell_type": "code",
      "metadata": {
        "tags": [],
        "cell_id": "00017-7992c303-a348-456f-afe8-8d8563b97065",
        "deepnote_to_be_reexecuted": false,
        "source_hash": "ddc5a5d6",
        "execution_millis": 3,
        "execution_start": 1617978504483,
        "deepnote_cell_type": "code"
      },
      "source": "from sklearn.metrics import precision_recall_fscore_support as score\nfrom sklearn.model_selection import train_test_split",
      "execution_count": null,
      "outputs": []
    },
    {
      "cell_type": "code",
      "metadata": {
        "tags": [],
        "cell_id": "00018-12bd04ca-f840-49c7-840c-f1b911946cbd",
        "deepnote_to_be_reexecuted": false,
        "source_hash": "94a050b9",
        "execution_millis": 2,
        "execution_start": 1617978528326,
        "deepnote_cell_type": "code"
      },
      "source": "X_train, X_test, Y_train, Y_test =  train_test_split(x_features, data['label'], test_size=0.2)",
      "execution_count": null,
      "outputs": []
    },
    {
      "cell_type": "code",
      "metadata": {
        "tags": [],
        "cell_id": "00019-a0b5c876-fc57-4dd6-8afb-2a7069cace2f",
        "deepnote_to_be_reexecuted": false,
        "source_hash": "b3c0a2a4",
        "execution_millis": 3,
        "execution_start": 1617978528472,
        "deepnote_cell_type": "code"
      },
      "source": "RF = RandomForestClassifier(n_estimators=50, max_depth=20, n_jobs=-1)\nrf_model = RF.fit(X_train, Y_train)",
      "execution_count": null,
      "outputs": []
    },
    {
      "cell_type": "code",
      "metadata": {
        "tags": [],
        "cell_id": "00020-f1294fae-7bf9-4e07-8d14-a2a064c7b2cd",
        "deepnote_to_be_reexecuted": false,
        "source_hash": "47973a60",
        "execution_millis": 2,
        "execution_start": 1617978529546,
        "deepnote_cell_type": "code"
      },
      "source": "sorted(zip(rf_model.feature_importances_, X_train.columns), reverse=True)[0:10]",
      "execution_count": null,
      "outputs": []
    },
    {
      "cell_type": "code",
      "metadata": {
        "tags": [],
        "cell_id": "00021-1dc8e0d3-5112-4744-b876-c29e13c3b280",
        "deepnote_to_be_reexecuted": false,
        "source_hash": "7e97d5f8",
        "execution_millis": 8,
        "execution_start": 1617978530114,
        "deepnote_cell_type": "code"
      },
      "source": "y_pred = rf_model.predict(X_test)\nprecision, recall, fscore, support =score(Y_test,y_pred, pos_label='spam', average='binary')",
      "execution_count": null,
      "outputs": []
    },
    {
      "cell_type": "code",
      "metadata": {
        "tags": [],
        "cell_id": "00022-7acb3957-53e2-41e3-9064-04f7292ca4d1",
        "deepnote_to_be_reexecuted": false,
        "source_hash": "862aaa4c",
        "execution_millis": 2,
        "execution_start": 1617978531416,
        "deepnote_cell_type": "code"
      },
      "source": "print('Precision: {} / Recall:{} /Accuracy: {} '.format(round(precision,3),\nround(recall, 3),\nround( ((y_pred == Y_test).sum()  / len(y_pred)),3  )\n))",
      "execution_count": null,
      "outputs": []
    },
    {
      "cell_type": "code",
      "metadata": {
        "tags": [],
        "cell_id": "00023-07fd9584-aa1b-421c-a91a-9ee9b033f3f1",
        "deepnote_to_be_reexecuted": false,
        "source_hash": "b6b6dd9",
        "execution_millis": 0,
        "execution_start": 1617978535214,
        "deepnote_cell_type": "code"
      },
      "source": "# The important points to be taken into consideration after the prediction by the model is that, the 1.0 precisio means that all mail in the spam folder is acutally spam.\n# The 56% in the recall means that the percantage of 56 % of all the spam that has come into your mail was properly placed in the spam folder.\n# The 94.4% of accuracy means, that percentage of emails that have come into your email were correctly identified as spam or ham\n",
      "execution_count": null,
      "outputs": []
    },
    {
      "cell_type": "code",
      "metadata": {
        "tags": [],
        "cell_id": "00024-48e6891e-0872-4700-8373-d2b6f8bd61f4",
        "deepnote_to_be_reexecuted": false,
        "source_hash": "eb8dcad5",
        "execution_millis": 4,
        "execution_start": 1617978535222,
        "deepnote_cell_type": "code"
      },
      "source": "# Building Machine Learning classifiers: Explore Random Forest model with grid-search",
      "execution_count": null,
      "outputs": []
    },
    {
      "cell_type": "code",
      "metadata": {
        "tags": [],
        "cell_id": "00025-136ae3f8-a1de-453b-bb76-cab6e74f4c65",
        "deepnote_to_be_reexecuted": false,
        "source_hash": "2ccc2ce4",
        "execution_millis": 0,
        "execution_start": 1617978536163,
        "deepnote_cell_type": "code"
      },
      "source": "# Grid-Search = Exhaustively search all parameter combinations in a given grid to determine the best model.",
      "execution_count": null,
      "outputs": []
    },
    {
      "cell_type": "code",
      "metadata": {
        "tags": [],
        "cell_id": "00026-9bd1ba3d-d58e-4227-8c8a-cf276fea9835",
        "deepnote_to_be_reexecuted": false,
        "source_hash": "825e2b4d",
        "execution_millis": 3,
        "execution_start": 1617978537227,
        "deepnote_cell_type": "code"
      },
      "source": "#Build our Grid-Search\n",
      "execution_count": null,
      "outputs": []
    },
    {
      "cell_type": "code",
      "metadata": {
        "tags": [],
        "cell_id": "00027-c840ff88-f4d3-4cd1-a6c5-dc53fc8f316b",
        "deepnote_to_be_reexecuted": false,
        "source_hash": "309feb67",
        "execution_millis": 5,
        "execution_start": 1617978538414,
        "deepnote_cell_type": "code"
      },
      "source": "def train_RF(n_eat, depth):\n    Rf = RandomForestClassifier(n_estimators=n_eat, max_depth=depth, n_jobs=-1)\n    rf_model = Rf.fit(X_train, Y_train)\n    y_pred = rf_model.predict(X_test)\n    precision, recall, fscore, support =score(Y_test,y_pred, pos_label='spam', average='binary')\n    print(' Est: {} / Depth: {}     ================Precision: {} / Recall:{} /Accuracy: {} '.format( n_eat, depth, round(precision,3),\n    round(recall, 3),\n    round( ((y_pred == Y_test).sum()  / len(y_pred)),3  )))",
      "execution_count": null,
      "outputs": []
    },
    {
      "cell_type": "code",
      "metadata": {
        "tags": [],
        "cell_id": "00028-85eb39d7-877e-42b4-9f66-d29237e34d66",
        "deepnote_to_be_reexecuted": false,
        "source_hash": "ef5368ba",
        "execution_millis": 2,
        "execution_start": 1617978540349,
        "deepnote_cell_type": "code"
      },
      "source": "for n_eat in [10, 50, 100]:\n    for depth in [10, 20, 30, None]:\n        train_RF(n_eat, depth)",
      "execution_count": null,
      "outputs": []
    },
    {
      "cell_type": "code",
      "metadata": {
        "tags": [],
        "cell_id": "00029-821c99fb-51b3-4484-bf0c-559566c1e431",
        "deepnote_to_be_reexecuted": false,
        "source_hash": "c8f342a6",
        "execution_millis": 0,
        "execution_start": 1617978541907,
        "deepnote_cell_type": "code"
      },
      "source": "# Building Machine Learning Classifiers: Evaluate Random Forest with Grid search CV",
      "execution_count": null,
      "outputs": []
    },
    {
      "cell_type": "code",
      "metadata": {
        "tags": [],
        "cell_id": "00030-9ffca6a4-6c0a-447b-9682-70feb30e4adc",
        "deepnote_to_be_reexecuted": false,
        "source_hash": "28958faa",
        "execution_millis": 4,
        "execution_start": 1617978543588,
        "deepnote_cell_type": "code"
      },
      "source": "#Cross validation: Divide a dataset into k-subsets and repeat the holdout method k times where a different subset is used as the holdout set in each iteration",
      "execution_count": null,
      "outputs": []
    },
    {
      "cell_type": "code",
      "metadata": {
        "tags": [],
        "cell_id": "00031-20a6691e-c73e-450d-9ada-2cd8f6eb9531",
        "deepnote_to_be_reexecuted": false,
        "source_hash": "267d136c",
        "execution_millis": 0,
        "execution_start": 1617978544884,
        "deepnote_cell_type": "code"
      },
      "source": "from sklearn.feature_extraction.text import TfidfVectorizer, CountVectorizer\n",
      "execution_count": null,
      "outputs": []
    },
    {
      "cell_type": "code",
      "metadata": {
        "tags": [],
        "cell_id": "00032-a2729376-695c-4874-b928-9fb31c682769",
        "deepnote_to_be_reexecuted": false,
        "source_hash": "6ecb394c",
        "execution_millis": 5627,
        "execution_start": 1617978554277,
        "deepnote_cell_type": "code"
      },
      "source": "tfidf_vect = TfidfVectorizer(analyzer=clean_text)\nX_tfidf = tfidf_vect.fit_transform(data['body_text'])\nX_tfidf_feat = pd.concat([data['body_len'], data['punct'], pd.DataFrame(X_tfidf.toarray())], axis=1)\n\n#Count Vectorizer\ncount_vect = CountVectorizer(analyzer=clean_text)\nX_count = count_vect.fit_transform(data['body_text'])\nX_count_feat = pd.concat([data['body_len'], data['punct'], pd.DataFrame(X_tfidf.toarray())], axis=1)",
      "execution_count": null,
      "outputs": []
    },
    {
      "cell_type": "code",
      "metadata": {
        "tags": [],
        "cell_id": "00033-9cf2bcd4-3f7a-4c79-90c0-dba81dec7682",
        "deepnote_to_be_reexecuted": false,
        "source_hash": "eb29d3c1",
        "execution_millis": 7,
        "execution_start": 1617978570711,
        "deepnote_cell_type": "code"
      },
      "source": "X_count_feat.head()",
      "execution_count": null,
      "outputs": []
    },
    {
      "cell_type": "code",
      "metadata": {
        "tags": [],
        "cell_id": "00034-f2e13031-af85-4528-82e1-a8ce387779b2",
        "deepnote_to_be_reexecuted": false,
        "source_hash": "aaf9058c",
        "execution_millis": 16,
        "execution_start": 1617978570992,
        "deepnote_cell_type": "code"
      },
      "source": "#Exloring parameter setting using Grid Search CV\n\n",
      "execution_count": null,
      "outputs": []
    },
    {
      "cell_type": "code",
      "metadata": {
        "tags": [],
        "cell_id": "00035-4336270c-d3da-4a64-87ac-5388d236df5a",
        "deepnote_to_be_reexecuted": false,
        "source_hash": "d91fec45",
        "execution_millis": 75,
        "execution_start": 1617978571607,
        "deepnote_cell_type": "code"
      },
      "source": "from sklearn.ensemble import RandomForestClassifier\nfrom sklearn.model_selection import GridSearchCV",
      "execution_count": null,
      "outputs": []
    },
    {
      "cell_type": "code",
      "metadata": {
        "tags": [],
        "cell_id": "00036-fd8dad56-69d1-4596-838c-87d8ac638755",
        "deepnote_to_be_reexecuted": false,
        "source_hash": "5c6fd2ac",
        "execution_millis": 8,
        "execution_start": 1617978573588,
        "deepnote_cell_type": "code"
      },
      "source": "rf  = RandomForestClassifier()\nparam = { 'n_estimators':[10, 150, 300] ,\n            'max_depth':[30,60,90,None]}\n            ",
      "execution_count": null,
      "outputs": []
    },
    {
      "cell_type": "code",
      "metadata": {
        "tags": [],
        "cell_id": "00037-afd2e4a3-90cd-473f-8fa1-99db48a778a8",
        "deepnote_to_be_reexecuted": false,
        "source_hash": "48e79208",
        "execution_millis": 537225,
        "execution_start": 1617978575135,
        "deepnote_cell_type": "code"
      },
      "source": "gs = GridSearchCV(rf, param, cv=5, n_jobs=-1)\ngs_fit = gs.fit(X_tfidf_feat, data['label'])\npd.DataFrame(gs_fit.cv_results).sort_values('mean_test_score', ascending=False)[0:5]",
      "execution_count": null,
      "outputs": [
        {
          "output_type": "error",
          "ename": "AttributeError",
          "evalue": "'GridSearchCV' object has no attribute 'cv_results'",
          "traceback": [
            "\u001b[0;31m---------------------------------------------------------------------------\u001b[0m",
            "\u001b[0;31mAttributeError\u001b[0m                            Traceback (most recent call last)",
            "\u001b[0;32m<ipython-input-40-bc32d04fb071>\u001b[0m in \u001b[0;36m<module>\u001b[0;34m\u001b[0m\n\u001b[1;32m      1\u001b[0m \u001b[0mgs\u001b[0m \u001b[0;34m=\u001b[0m \u001b[0mGridSearchCV\u001b[0m\u001b[0;34m(\u001b[0m\u001b[0mrf\u001b[0m\u001b[0;34m,\u001b[0m \u001b[0mparam\u001b[0m\u001b[0;34m,\u001b[0m \u001b[0mcv\u001b[0m\u001b[0;34m=\u001b[0m\u001b[0;36m5\u001b[0m\u001b[0;34m,\u001b[0m \u001b[0mn_jobs\u001b[0m\u001b[0;34m=\u001b[0m\u001b[0;34m-\u001b[0m\u001b[0;36m1\u001b[0m\u001b[0;34m)\u001b[0m\u001b[0;34m\u001b[0m\u001b[0;34m\u001b[0m\u001b[0m\n\u001b[1;32m      2\u001b[0m \u001b[0mgs_fit\u001b[0m \u001b[0;34m=\u001b[0m \u001b[0mgs\u001b[0m\u001b[0;34m.\u001b[0m\u001b[0mfit\u001b[0m\u001b[0;34m(\u001b[0m\u001b[0mX_tfidf_feat\u001b[0m\u001b[0;34m,\u001b[0m \u001b[0mdata\u001b[0m\u001b[0;34m[\u001b[0m\u001b[0;34m'label'\u001b[0m\u001b[0;34m]\u001b[0m\u001b[0;34m)\u001b[0m\u001b[0;34m\u001b[0m\u001b[0;34m\u001b[0m\u001b[0m\n\u001b[0;32m----> 3\u001b[0;31m \u001b[0mpd\u001b[0m\u001b[0;34m.\u001b[0m\u001b[0mDataFrame\u001b[0m\u001b[0;34m(\u001b[0m\u001b[0mgs_fit\u001b[0m\u001b[0;34m.\u001b[0m\u001b[0mcv_results\u001b[0m\u001b[0;34m)\u001b[0m\u001b[0;34m.\u001b[0m\u001b[0msort_values\u001b[0m\u001b[0;34m(\u001b[0m\u001b[0;34m'mean_test_score'\u001b[0m\u001b[0;34m,\u001b[0m \u001b[0mascending\u001b[0m\u001b[0;34m=\u001b[0m\u001b[0;32mFalse\u001b[0m\u001b[0;34m)\u001b[0m\u001b[0;34m[\u001b[0m\u001b[0;36m0\u001b[0m\u001b[0;34m:\u001b[0m\u001b[0;36m5\u001b[0m\u001b[0;34m]\u001b[0m\u001b[0;34m\u001b[0m\u001b[0;34m\u001b[0m\u001b[0m\n\u001b[0m",
            "\u001b[0;31mAttributeError\u001b[0m: 'GridSearchCV' object has no attribute 'cv_results'"
          ]
        }
      ]
    },
    {
      "cell_type": "code",
      "metadata": {
        "tags": [],
        "cell_id": "00038-056086e6-71eb-4403-b26b-0385408c5b9e",
        "deepnote_to_be_reexecuted": true,
        "source_hash": "b623e53d",
        "deepnote_cell_type": "code"
      },
      "source": "",
      "execution_count": null,
      "outputs": []
    },
    {
      "cell_type": "markdown",
      "source": "<a style='text-decoration:none;line-height:16px;display:flex;color:#5B5B62;padding:10px;justify-content:end;' href='https://deepnote.com?utm_source=created-in-deepnote-cell&projectId=c110350c-d27f-445e-a2fe-f71c16e85564' target=\"_blank\">\n<img alt='Created in deepnote.com' style='display:inline;max-height:16px;margin:0px;margin-right:7.5px;' src='data:image/svg+xml;base64,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' > </img>\nCreated in <span style='font-weight:600;margin-left:4px;'>Deepnote</span></a>",
      "metadata": {
        "tags": [],
        "created_in_deepnote_cell": true,
        "deepnote_cell_type": "markdown"
      }
    }
  ],
  "nbformat": 4,
  "nbformat_minor": 2,
  "metadata": {
    "orig_nbformat": 2,
    "deepnote_notebook_id": "9b4a0695-4945-4d39-bc73-8a3d643d87b2",
    "deepnote": {},
    "deepnote_execution_queue": []
  }
}